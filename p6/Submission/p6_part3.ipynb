{
 "cells": [
  {
   "cell_type": "code",
   "execution_count": 1,
   "id": "c5274061-e301-403b-879b-c1a763b72185",
   "metadata": {},
   "outputs": [],
   "source": [
    "import sys\n",
    "# !{sys.executable} -m pip install haystack-ai\n",
    "# !{sys.executable} -m pip install elasticsearch-haystack \n",
    "# !{sys.executable} -m pip elasticsearch-haystack\n",
    "# !{sys.executable} -m pip install huggingface_hub\n",
    "# !{sys.executable} -m pip  install \"huggingface_hub>=0.27.0\""
   ]
  },
  {
   "cell_type": "code",
   "execution_count": 2,
   "id": "c3512312-48e7-4eac-82e4-453b16783234",
   "metadata": {},
   "outputs": [],
   "source": [
    "import os\n",
    "from haystack import Pipeline\n",
    "from haystack_integrations.document_stores.elasticsearch import ElasticsearchDocumentStore\n",
    "from haystack_integrations.components.retrievers.elasticsearch import ElasticsearchBM25Retriever\n",
    "from haystack.components.builders.prompt_builder import PromptBuilder\n",
    "from haystack.components.generators import HuggingFaceAPIGenerator\n",
    "from haystack.components.converters import TextFileToDocument\n",
    "from haystack.components.writers import DocumentWriter\n",
    "from haystack.components.preprocessors import DocumentSplitter\n",
    "from haystack.utils import Secret\n",
    "from elasticsearch import Elasticsearch, NotFoundError\n",
    "import huggingface_hub"
   ]
  },
  {
   "cell_type": "code",
   "execution_count": 3,
   "id": "bbb82010-9915-422b-90ca-2b294f0e7c72",
   "metadata": {},
   "outputs": [
    {
     "name": "stdout",
     "output_type": "stream",
     "text": [
      "--2025-05-08 06:39:17--  https://github.com/CS639-Data-Management-for-Data-Science/s25/raw/main/p6/transcripts.zip\n",
      "Resolving github.com (github.com)... 140.82.114.4\n",
      "Connecting to github.com (github.com)|140.82.114.4|:443... connected.\n",
      "HTTP request sent, awaiting response... 302 Found\n",
      "Location: https://raw.githubusercontent.com/CS639-Data-Management-for-Data-Science/s25/main/p6/transcripts.zip [following]\n",
      "--2025-05-08 06:39:17--  https://raw.githubusercontent.com/CS639-Data-Management-for-Data-Science/s25/main/p6/transcripts.zip\n",
      "Resolving raw.githubusercontent.com (raw.githubusercontent.com)... 185.199.110.133, 185.199.109.133, 185.199.111.133, ...\n",
      "Connecting to raw.githubusercontent.com (raw.githubusercontent.com)|185.199.110.133|:443... connected.\n",
      "200 OKequest sent, awaiting response... \n",
      "Length: 290933 (284K) [application/zip]\n",
      "Saving to: ‘transcripts.zip.28’\n",
      "\n",
      "transcripts.zip.28  100%[===================>] 284.11K  --.-KB/s    in 0.03s   \n",
      "\n",
      "2025-05-08 06:39:17 (8.72 MB/s) - ‘transcripts.zip.28’ saved [290933/290933]\n",
      "\n",
      "Archive:  transcripts.zip\n",
      "   creating: transcripts/transcripts/\n",
      "  inflating: transcripts/__MACOSX/._transcripts  \n",
      "  inflating: transcripts/transcripts/23 en-English-CS639_ Elasticsearch geo queries + Kibana.txt  \n",
      "  inflating: transcripts/__MACOSX/transcripts/._23 en-English-CS639_ Elasticsearch geo queries + Kibana.txt  \n",
      "  inflating: transcripts/transcripts/14 en-English-CS639_ MongoDB on Docker.txt  \n",
      "  inflating: transcripts/__MACOSX/transcripts/._14 en-English-CS639_ MongoDB on Docker.txt  \n",
      "  inflating: transcripts/transcripts/.DS_Store  \n",
      "  inflating: transcripts/__MACOSX/transcripts/._.DS_Store  \n",
      "  inflating: transcripts/transcripts/11 en-English-CS639_ SQL Joins.txt  \n",
      "  inflating: transcripts/__MACOSX/transcripts/._11 en-English-CS639_ SQL Joins.txt  \n",
      "  inflating: transcripts/transcripts/16 en-English-CS639_ MongoDB Operators.txt  \n",
      "  inflating: transcripts/__MACOSX/transcripts/._16 en-English-CS639_ MongoDB Operators.txt  \n",
      "  inflating: transcripts/transcripts/7 en-English-CS639_ SQL on docker.txt  \n",
      "  inflating: transcripts/__MACOSX/transcripts/._7 en-English-CS639_ SQL on docker.txt  \n",
      "  inflating: transcripts/transcripts/12 en-English-CS639_ SQL window functions.txt  \n",
      "  inflating: transcripts/__MACOSX/transcripts/._12 en-English-CS639_ SQL window functions.txt  \n",
      "  inflating: transcripts/transcripts/2 en-English-CS639_ Deployment (Linux Shell).txt  \n",
      "  inflating: transcripts/__MACOSX/transcripts/._2 en-English-CS639_ Deployment (Linux Shell).txt  \n",
      "  inflating: transcripts/transcripts/4 en-English-CS639_ Docker.txt  \n",
      "  inflating: transcripts/__MACOSX/transcripts/._4 en-English-CS639_ Docker.txt  \n",
      "  inflating: transcripts/transcripts/21 en-English-CS639_ Elasticsearch API intro.txt  \n",
      "  inflating: transcripts/__MACOSX/transcripts/._21 en-English-CS639_ Elasticsearch API intro.txt  \n",
      "  inflating: transcripts/transcripts/6.2 en-English-SQL 1_ Creating tables (post fire-alarm).txt  \n",
      "  inflating: transcripts/__MACOSX/transcripts/._6.2 en-English-SQL 1_ Creating tables (post fire-alarm).txt  \n",
      "  inflating: transcripts/transcripts/1 en-English-CS639_ Course intro.txt  \n",
      "  inflating: transcripts/__MACOSX/transcripts/._1 en-English-CS639_ Course intro.txt  \n",
      "  inflating: transcripts/transcripts/17 en-English-CS639_ MongoDB Aggregation.txt  \n",
      "  inflating: transcripts/__MACOSX/transcripts/._17 en-English-CS639_ MongoDB Aggregation.txt  \n",
      "  inflating: transcripts/transcripts/20 en-English-CS639_ Elasticsearch intro.txt  \n",
      "  inflating: transcripts/__MACOSX/transcripts/._20 en-English-CS639_ Elasticsearch intro.txt  \n",
      "  inflating: transcripts/transcripts/22 en-English-CS639_ Elasticsearch_ Boosting, highlighting, and aggregations.txt  \n",
      "  inflating: transcripts/__MACOSX/transcripts/._22 en-English-CS639_ Elasticsearch_ Boosting, highlighting, and aggregations.txt  \n",
      "  inflating: transcripts/transcripts/6.1 en-English-CS639_ SQL 1_ Creating tables (part 1).txt  \n",
      "  inflating: transcripts/__MACOSX/transcripts/._6.1 en-English-CS639_ SQL 1_ Creating tables (part 1).txt  \n",
      "  inflating: transcripts/transcripts/13 en-English-CS639_ Non-relational databases_ MongoDB.txt  \n",
      "  inflating: transcripts/__MACOSX/transcripts/._13 en-English-CS639_ Non-relational databases_ MongoDB.txt  \n",
      "  inflating: transcripts/transcripts/15 en-English-CS639_ MongoDB API.txt  \n",
      "  inflating: transcripts/__MACOSX/transcripts/._15 en-English-CS639_ MongoDB API.txt  \n",
      "  inflating: transcripts/transcripts/10 en-English-CS639_ SQL subqueries.txt  \n",
      "  inflating: transcripts/__MACOSX/transcripts/._10 en-English-CS639_ SQL subqueries.txt  \n",
      "  inflating: transcripts/transcripts/8 en-English-CS639_ Relational Algebra (RA).txt  \n",
      "  inflating: transcripts/__MACOSX/transcripts/._8 en-English-CS639_ Relational Algebra (RA).txt  \n",
      "  inflating: transcripts/transcripts/3 en-English-CS639_ Deployment (Linux Pipelines).txt  \n",
      "  inflating: transcripts/__MACOSX/transcripts/._3 en-English-CS639_ Deployment (Linux Pipelines).txt  \n",
      "  inflating: transcripts/transcripts/5 en-English-CS639_ Relational Database Management Systems (RDBMS).txt  \n",
      "  inflating: transcripts/__MACOSX/transcripts/._5 en-English-CS639_ Relational Database Management Systems (RDBMS).txt  \n",
      "  inflating: transcripts/transcripts/18 en-English-CS639_ MongoDB Geospatial Operators.txt  \n",
      "  inflating: transcripts/__MACOSX/transcripts/._18 en-English-CS639_ MongoDB Geospatial Operators.txt  \n",
      "  inflating: transcripts/transcripts/9 en-English-CS639_ Basic SQL queries (partial lecture).txt  \n",
      "  inflating: transcripts/__MACOSX/transcripts/._9 en-English-CS639_ Basic SQL queries (partial lecture).txt  \n"
     ]
    }
   ],
   "source": [
    "!rm -rf transcripts/\n",
    "!wget https://github.com/CS639-Data-Management-for-Data-Science/s25/raw/main/p6/transcripts.zip\n",
    "!unzip transcripts.zip -d transcripts/"
   ]
  },
  {
   "cell_type": "code",
   "execution_count": 4,
   "id": "fc67e968-6eac-4844-824b-ef97c34568b6",
   "metadata": {},
   "outputs": [
    {
     "name": "stdout",
     "output_type": "stream",
     "text": [
      "Deleted existing index 'lecture_transcripts'\n"
     ]
    }
   ],
   "source": [
    "# Define index name\n",
    "index_name = \"lecture_transcripts\"\n",
    "\n",
    "# Create raw Elasticsearch client to manage indices directly\n",
    "client = Elasticsearch(\"http://localhost:9200\", basic_auth=(\"elastic\", \"sD5F3szZ\"))\n",
    "\n",
    "# Delete index if it exists\n",
    "try:\n",
    "    client.indices.delete(index=index_name)\n",
    "    print(f\"Deleted existing index '{index_name}'\")\n",
    "except NotFoundError:\n",
    "    print(\"Index doesn't exist!\")\n",
    "\n",
    "# Create index (optional — can skip if using Haystack's DocumentStore)\n",
    "client.indices.create(index=index_name)\n",
    "\n",
    "# Now create the Haystack-compatible document store\n",
    "document_store = ElasticsearchDocumentStore(\n",
    "    hosts=\"http://localhost:9200\",\n",
    "    basic_auth=(\"elastic\", \"sD5F3szZ\"),\n",
    "    index=index_name\n",
    ")"
   ]
  },
  {
   "cell_type": "code",
   "execution_count": 5,
   "id": "80085a5f-cccb-4cff-986f-a5532dfd7fbb",
   "metadata": {},
   "outputs": [
    {
     "data": {
      "text/plain": [
       "<haystack_integrations.document_stores.elasticsearch.document_store.ElasticsearchDocumentStore at 0x73cb63c07910>"
      ]
     },
     "execution_count": 5,
     "metadata": {},
     "output_type": "execute_result"
    }
   ],
   "source": [
    "document_store"
   ]
  },
  {
   "cell_type": "code",
   "execution_count": 6,
   "id": "1430febe-e699-4846-8f4c-140f419d0c76",
   "metadata": {},
   "outputs": [
    {
     "data": {
      "text/plain": [
       "<haystack.core.pipeline.pipeline.Pipeline object at 0x73cb63c36590>\n",
       "🚅 Components\n",
       "  - converter: TextFileToDocument\n",
       "  - splitter: DocumentSplitter\n",
       "  - writer: DocumentWriter\n",
       "🛤️ Connections\n",
       "  - converter.documents -> splitter.documents (List[Document])\n",
       "  - splitter.documents -> writer.documents (List[Document])"
      ]
     },
     "execution_count": 6,
     "metadata": {},
     "output_type": "execute_result"
    }
   ],
   "source": [
    "index_pipeline = Pipeline()\n",
    "index_pipeline.add_component(\"converter\", TextFileToDocument())\n",
    "index_pipeline.add_component(\"splitter\", DocumentSplitter(split_by=\"word\", split_length=150))\n",
    "index_pipeline.add_component(\"writer\", DocumentWriter(document_store))\n",
    "index_pipeline.connect(\"converter\", \"splitter\")\n",
    "index_pipeline.connect(\"splitter\", \"writer\")\n"
   ]
  },
  {
   "cell_type": "code",
   "execution_count": 7,
   "id": "be2d8af7-6075-452b-a77b-22542151e224",
   "metadata": {},
   "outputs": [
    {
     "data": {
      "text/plain": [
       "{'writer': {'documents_written': 901}}"
      ]
     },
     "execution_count": 7,
     "metadata": {},
     "output_type": "execute_result"
    }
   ],
   "source": [
    "import glob\n",
    "\n",
    "text_files = glob.glob(\"transcripts/transcripts/*.txt\")\n",
    "\n",
    "index_pipeline.run({\"converter\": {\"sources\": text_files}})"
   ]
  },
  {
   "cell_type": "code",
   "execution_count": 8,
   "id": "6eef9580-cbdf-44c6-9a62-e1fafd8a1204",
   "metadata": {},
   "outputs": [
    {
     "data": {
      "image/png": "[encoded data removed]",
      "text/plain": [
       "<IPython.core.display.Image object>"
      ]
     },
     "metadata": {},
     "output_type": "display_data"
    }
   ],
   "source": [
    "index_pipeline.show()"
   ]
  },
  {
   "cell_type": "code",
   "execution_count": 9,
   "id": "d4551991-90c9-41e9-8b89-c2b6f408d669",
   "metadata": {},
   "outputs": [],
   "source": [
    "template = \"\"\"\n",
    "<|system|>\n",
    "You are a helpful assistant.<|end|>\n",
    "<|user|>\n",
    "Given the following information, answer the question.\n",
    "\n",
    "Context: \n",
    "{% for document in documents %}\n",
    "  {{ document.content }}\n",
    "{% endfor %}\n",
    "\n",
    "Question: {{ query }}?<|end|>\n",
    "<|assistant|>\"\"\""
   ]
  },
  {
   "cell_type": "code",
   "execution_count": 14,
   "id": "57eff773-b3a9-42b7-881c-1fce7314e86d",
   "metadata": {},
   "outputs": [],
   "source": [
    "%reset -f"
   ]
  },
  {
   "cell_type": "code",
   "execution_count": 15,
   "id": "c2dcba45-f408-4f53-b916-8e6144bde5a0",
   "metadata": {},
   "outputs": [
    {
     "name": "stdout",
     "output_type": "stream",
     "text": [
      "Overwriting app.py\n"
     ]
    }
   ],
   "source": [
    "%%writefile app.py\n",
    "import streamlit as st\n",
    "from haystack import Pipeline\n",
    "from haystack_integrations.document_stores.elasticsearch import ElasticsearchDocumentStore\n",
    "from haystack_integrations.components.retrievers.elasticsearch import ElasticsearchBM25Retriever\n",
    "from haystack.components.builders.prompt_builder import PromptBuilder\n",
    "from haystack.components.generators import HuggingFaceAPIGenerator\n",
    "from haystack.components.converters import TextFileToDocument\n",
    "from haystack.components.writers import DocumentWriter\n",
    "from haystack.components.preprocessors import DocumentSplitter\n",
    "from haystack.utils import Secret\n",
    "from elasticsearch import Elasticsearch, NotFoundError\n",
    "import huggingface_hub\n",
    "from huggingface_hub import login\n",
    "\n",
    "template = \"\"\"\n",
    "<|system|>\n",
    "You are a helpful assistant.<|end|>\n",
    "<|user|>\n",
    "Given the following information, answer the question.\n",
    "\n",
    "Context: \n",
    "{% for document in documents %}\n",
    "    {{ document.content }}\n",
    "{% endfor %}\n",
    "\n",
    "Question: {{ query }}?<|end|>\n",
    "<|assistant|>\n",
    "\"\"\"\n",
    "\n",
    "# Insert login token for HuggingFace API\n",
    "\n",
    "from haystack_integrations.document_stores.elasticsearch import ElasticsearchDocumentStore\n",
    "\n",
    "index_name = \"lecture_transcripts\"\n",
    "\n",
    "client = Elasticsearch(\"http://localhost:9200\", basic_auth=(\"elastic\", \"sD5F3szZ\"))\n",
    "\n",
    "try:\n",
    "    client.indices.delete(index=index_name)\n",
    "except NotFoundError:\n",
    "    print(\"Index doesn't exist!\")\n",
    "\n",
    "client.indices.create(index=index_name)\n",
    "\n",
    "document_store = ElasticsearchDocumentStore(\n",
    "    hosts=\"http://localhost:9200\",\n",
    "    basic_auth=(\"elastic\", \"sD5F3szZ\"),\n",
    "    index=index_name\n",
    ")\n",
    "\n",
    "document_store = ElasticsearchDocumentStore(hosts=\"http://localhost:9200\", basic_auth=(\"elastic\", \"sD5F3szZ\"), index=index_name)\n",
    "\n",
    "index_pipeline = Pipeline()\n",
    "index_pipeline.add_component(\"converter\", TextFileToDocument())\n",
    "index_pipeline.add_component(\"splitter\", DocumentSplitter(split_by=\"word\", split_length=150))\n",
    "index_pipeline.add_component(\"writer\", DocumentWriter(document_store))\n",
    "index_pipeline.connect(\"converter\", \"splitter\")\n",
    "index_pipeline.connect(\"splitter\", \"writer\")\n",
    "\n",
    "import glob\n",
    "\n",
    "text_files = glob.glob(\"transcripts/transcripts/*.txt\")\n",
    "\n",
    "index_pipeline.run({\"converter\": {\"sources\": text_files}})\n",
    "\n",
    "retriever = ElasticsearchBM25Retriever(document_store=document_store)\n",
    "generator = HuggingFaceAPIGenerator(\n",
    "    api_type=\"serverless_inference_api\",\n",
    "    api_params={\n",
    "        \"model\": \"google/flan-t5-base\", \n",
    "        \"max_new_tokens\": 200\n",
    "    }\n",
    ")\n",
    "\n",
    "rag_pipeline = Pipeline()\n",
    "rag_pipeline.add_component(\"retriever\", retriever)\n",
    "rag_pipeline.add_component(\"prompt_builder\", PromptBuilder(template=template))\n",
    "rag_pipeline.add_component(\"llm\", generator)\n",
    "rag_pipeline.connect(\"retriever\", \"prompt_builder.documents\")\n",
    "rag_pipeline.connect(\"prompt_builder\", \"llm\")\n",
    "\n",
    "st.title(\"💬 Course Chatbot\")\n",
    "st.caption(\"🚀 Interactive Q&A with Elasticsearch, Haystack, and HuggingFace\")\n",
    "\n",
    "if \"messages\" not in st.session_state:\n",
    "    st.session_state.messages = []\n",
    "\n",
    "for msg in st.session_state.messages:\n",
    "    st.chat_message(msg[\"role\"]).write(msg[\"content\"])\n",
    "\n",
    "if prompt := st.chat_input(\"Ask a question about the course transcripts\"):\n",
    "    st.session_state.messages.append({\"role\": \"user\", \"content\": prompt})\n",
    "    st.chat_message(\"user\").write(prompt)\n",
    "\n",
    "    response = rag_pipeline.run({\n",
    "        \"prompt_builder\": {\"query\": prompt},\n",
    "        \"retriever\": {\"query\": prompt}\n",
    "    })['llm']['replies'][0]\n",
    "\n",
    "    st.session_state.messages.append({\"role\": \"assistant\", \"content\": response})\n",
    "    st.chat_message(\"assistant\").write(response)\n"
   ]
  },
  {
   "cell_type": "code",
   "execution_count": 16,
   "id": "ecfeef07-2288-4690-9b66-04266640cbde",
   "metadata": {},
   "outputs": [
    {
     "name": "stdout",
     "output_type": "stream",
     "text": [
      "34.69.165.207"
     ]
    }
   ],
   "source": [
    "!curl https://loca.lt/mytunnelpassword"
   ]
  },
  {
   "cell_type": "code",
   "execution_count": 17,
   "id": "8a82e1a5-b3e0-4ff5-98b1-4272f6c5f34d",
   "metadata": {},
   "outputs": [
    {
     "name": "stdout",
     "output_type": "stream",
     "text": [
      "\n",
      "Collecting usage statistics. To deactivate, set browser.gatherUsageStats to false.\n",
      "\u001b[0m\n",
      "\u001b[0m\n",
      "\u001b[34m\u001b[1m  You can now view your Streamlit app in your browser.\u001b[0m\n",
      "\u001b[0m\n",
      "\u001b[34m  Local URL: \u001b[0m\u001b[1mhttp://localhost:8501\u001b[0m\n",
      "\u001b[34m  Network URL: \u001b[0m\u001b[1mhttp://10.128.0.3:8501\u001b[0m\n",
      "\u001b[34m  External URL: \u001b[0m\u001b[1mhttp://34.69.165.207:8501\u001b[0m\n",
      "\u001b[0m\n",
      "your url is: https://two-items-wear.loca.lt\n",
      "PromptBuilder has 2 prompt variables, but `required_variables` is not set. By default, all prompt variables are treated as optional, which may lead to unintended behavior in multi-branch pipelines. To avoid unexpected execution, ensure that variables intended to be required are explicitly set in `required_variables`.\n",
      "PromptBuilder has 2 prompt variables, but `required_variables` is not set. By default, all prompt variables are treated as optional, which may lead to unintended behavior in multi-branch pipelines. To avoid unexpected execution, ensure that variables intended to be required are explicitly set in `required_variables`.\n",
      "/home/purandhar/miniconda3/lib/python3.12/site-packages/huggingface_hub/inference/_client.py:2234: FutureWarning: `stop_sequences` is a deprecated argument for `text_generation` task and will be removed in version '0.28.0'. Use `stop` instead.\n",
      "  warnings.warn(\n",
      "\u001b[31m──\u001b[0m\u001b[31m────────────────────────\u001b[0m\u001b[31m \u001b[0m\u001b[1;31mTraceback \u001b[0m\u001b[1;2;31m(most recent call last)\u001b[0m\u001b[31m \u001b[0m\u001b[31m─────────────────────────\u001b[0m\u001b[31m──\u001b[0m\n",
      "\u001b[31m \u001b[0m \u001b[2;33m/home/purandhar/miniconda3/lib/python3.12/site-packages/haystack/core/pipeline/\u001b[0m\u001b[1;33mpipel\u001b[0m \u001b[31m \u001b[0m\n",
      "\u001b[31m \u001b[0m \u001b[1;33mine.py\u001b[0m:\u001b[94m60\u001b[0m in \u001b[92m_run_component\u001b[0m                                                          \u001b[31m \u001b[0m\n",
      "\u001b[31m \u001b[0m                                                                                      \u001b[31m \u001b[0m\n",
      "\u001b[31m \u001b[0m   \u001b[2m 57 \u001b[0m\u001b[2m│   │   │   \u001b[0mspan.set_content_tag(_COMPONENT_INPUT, deepcopy(inputs))           \u001b[31m \u001b[0m\n",
      "\u001b[31m \u001b[0m   \u001b[2m 58 \u001b[0m\u001b[2m│   │   │   \u001b[0mlogger.info(\u001b[33m\"\u001b[0m\u001b[33mRunning component \u001b[0m\u001b[33m{component_name}\u001b[0m\u001b[33m\"\u001b[0m, component_name=c \u001b[31m \u001b[0m\n",
      "\u001b[31m \u001b[0m   \u001b[2m 59 \u001b[0m\u001b[2m│   │   │   \u001b[0m\u001b[94mtry\u001b[0m:                                                               \u001b[31m \u001b[0m\n",
      "\u001b[31m \u001b[0m \u001b[31m❱ \u001b[0m 60 \u001b[2m│   │   │   │   \u001b[0mcomponent_output = instance.run(**inputs)                      \u001b[31m \u001b[0m\n",
      "\u001b[31m \u001b[0m   \u001b[2m 61 \u001b[0m\u001b[2m│   │   │   \u001b[0m\u001b[94mexcept\u001b[0m \u001b[96mException\u001b[0m \u001b[94mas\u001b[0m error:                                         \u001b[31m \u001b[0m\n",
      "\u001b[31m \u001b[0m   \u001b[2m 62 \u001b[0m\u001b[2m│   │   │   │   \u001b[0m\u001b[1;4;94mraise\u001b[0m\u001b[1;4m PipelineRuntimeError.from_exception(component_name, inst\u001b[0m \u001b[31m \u001b[0m\n",
      "\u001b[31m \u001b[0m   \u001b[2m 63 \u001b[0m\u001b[2m│   │   │   \u001b[0mcomponent_visits[component_name] += \u001b[94m1\u001b[0m                              \u001b[31m \u001b[0m\n",
      "\u001b[31m \u001b[0m                                                                                      \u001b[31m \u001b[0m\n",
      "\u001b[31m \u001b[0m \u001b[2;33m/home/purandhar/miniconda3/lib/python3.12/site-packages/haystack/components/generato\u001b[0m \u001b[31m \u001b[0m\n",
      "\u001b[31m \u001b[0m \u001b[2;33mrs/\u001b[0m\u001b[1;33mhugging_face_api.py\u001b[0m:\u001b[94m205\u001b[0m in \u001b[92mrun\u001b[0m                                                    \u001b[31m \u001b[0m\n",
      "\u001b[31m \u001b[0m                                                                                      \u001b[31m \u001b[0m\n",
      "\u001b[31m \u001b[0m   \u001b[2m202 \u001b[0m\u001b[2m│   │   \u001b[0m\u001b[2m# check if streaming_callback is passed\u001b[0m                                \u001b[31m \u001b[0m\n",
      "\u001b[31m \u001b[0m   \u001b[2m203 \u001b[0m\u001b[2m│   │   \u001b[0mstreaming_callback = streaming_callback \u001b[95mor\u001b[0m \u001b[96mself\u001b[0m.streaming_callback     \u001b[31m \u001b[0m\n",
      "\u001b[31m \u001b[0m   \u001b[2m204 \u001b[0m\u001b[2m│   │   \u001b[0m                                                                       \u001b[31m \u001b[0m\n",
      "\u001b[31m \u001b[0m \u001b[31m❱ \u001b[0m205 \u001b[2m│   │   \u001b[0mhf_output = \u001b[1;4;96mself\u001b[0m\u001b[1;4m._client.text_generation(\u001b[0m                              \u001b[31m \u001b[0m\n",
      "\u001b[31m \u001b[0m   \u001b[2m206 \u001b[0m\u001b[1;2;4m│   │   │   \u001b[0m\u001b[1;4mprompt, details=\u001b[0m\u001b[1;4;94mTrue\u001b[0m\u001b[1;4m, stream=streaming_callback \u001b[0m\u001b[1;4;95mis\u001b[0m\u001b[1;4m \u001b[0m\u001b[1;4;95mnot\u001b[0m\u001b[1;4m \u001b[0m\u001b[1;4;94mNone\u001b[0m\u001b[1;4m, **gen\u001b[0m \u001b[31m \u001b[0m\n",
      "\u001b[31m \u001b[0m   \u001b[2m207 \u001b[0m\u001b[1;2;4m│   │   \u001b[0m\u001b[1;4m)\u001b[0m                                                                      \u001b[31m \u001b[0m\n",
      "\u001b[31m \u001b[0m   \u001b[2m208 \u001b[0m                                                                               \u001b[31m \u001b[0m\n",
      "\u001b[31m \u001b[0m                                                                                      \u001b[31m \u001b[0m\n",
      "\u001b[31m \u001b[0m \u001b[2;33m/home/purandhar/miniconda3/lib/python3.12/site-packages/huggingface_hub/inference/\u001b[0m\u001b[1;33m_c\u001b[0m \u001b[31m \u001b[0m\n",
      "\u001b[31m \u001b[0m \u001b[1;33mlient.py\u001b[0m:\u001b[94m2297\u001b[0m in \u001b[92mtext_generation\u001b[0m                                                     \u001b[31m \u001b[0m\n",
      "\u001b[31m \u001b[0m                                                                                      \u001b[31m \u001b[0m\n",
      "\u001b[31m \u001b[0m   \u001b[2m2294 \u001b[0m\u001b[2m│   │   │   │   \u001b[0m)                                                             \u001b[31m \u001b[0m\n",
      "\u001b[31m \u001b[0m   \u001b[2m2295 \u001b[0m\u001b[2m│   │   \u001b[0m                                                                      \u001b[31m \u001b[0m\n",
      "\u001b[31m \u001b[0m   \u001b[2m2296 \u001b[0m\u001b[2m│   │   \u001b[0mmodel_id = model \u001b[95mor\u001b[0m \u001b[96mself\u001b[0m.model                                        \u001b[31m \u001b[0m\n",
      "\u001b[31m \u001b[0m \u001b[31m❱ \u001b[0m2297 \u001b[2m│   │   \u001b[0mprovider_helper = \u001b[1;4mget_provider_helper(\u001b[0m\u001b[1;4;96mself\u001b[0m\u001b[1;4m.provider, task=\u001b[0m\u001b[1;4;33m\"\u001b[0m\u001b[1;4;33mtext-gener\u001b[0m \u001b[31m \u001b[0m\n",
      "\u001b[31m \u001b[0m   \u001b[2m2298 \u001b[0m\u001b[2m│   │   \u001b[0mrequest_parameters = provider_helper.prepare_request(                 \u001b[31m \u001b[0m\n",
      "\u001b[31m \u001b[0m   \u001b[2m2299 \u001b[0m\u001b[2m│   │   │   \u001b[0minputs=prompt,                                                    \u001b[31m \u001b[0m\n",
      "\u001b[31m \u001b[0m   \u001b[2m2300 \u001b[0m\u001b[2m│   │   │   \u001b[0mparameters=parameters,                                            \u001b[31m \u001b[0m\n",
      "\u001b[31m \u001b[0m                                                                                      \u001b[31m \u001b[0m\n",
      "\u001b[31m \u001b[0m \u001b[2;33m/home/purandhar/miniconda3/lib/python3.12/site-packages/huggingface_hub/inference/_p\u001b[0m \u001b[31m \u001b[0m\n",
      "\u001b[31m \u001b[0m \u001b[2;33mroviders/\u001b[0m\u001b[1;33m__init__.py\u001b[0m:\u001b[94m165\u001b[0m in \u001b[92mget_provider_helper\u001b[0m                                      \u001b[31m \u001b[0m\n",
      "\u001b[31m \u001b[0m                                                                                      \u001b[31m \u001b[0m\n",
      "\u001b[31m \u001b[0m   \u001b[2m162 \u001b[0m\u001b[2m│   │   \u001b[0m\u001b[94mif\u001b[0m model \u001b[95mis\u001b[0m \u001b[94mNone\u001b[0m:                                                      \u001b[31m \u001b[0m\n",
      "\u001b[31m \u001b[0m   \u001b[2m163 \u001b[0m\u001b[2m│   │   │   \u001b[0m\u001b[94mraise\u001b[0m \u001b[96mValueError\u001b[0m(\u001b[33m\"\u001b[0m\u001b[33mSpecifying a model is required when provider is \u001b[0m \u001b[31m \u001b[0m\n",
      "\u001b[31m \u001b[0m   \u001b[2m164 \u001b[0m\u001b[2m│   │   \u001b[0mprovider_mapping = _fetch_inference_provider_mapping(model)            \u001b[31m \u001b[0m\n",
      "\u001b[31m \u001b[0m \u001b[31m❱ \u001b[0m165 \u001b[2m│   │   \u001b[0mprovider = \u001b[1;4;96mnext\u001b[0m\u001b[1;4m(\u001b[0m\u001b[1;4;96miter\u001b[0m\u001b[1;4m(provider_mapping))\u001b[0m                                \u001b[31m \u001b[0m\n",
      "\u001b[31m \u001b[0m   \u001b[2m166 \u001b[0m\u001b[2m│   \u001b[0m                                                                           \u001b[31m \u001b[0m\n",
      "\u001b[31m \u001b[0m   \u001b[2m167 \u001b[0m\u001b[2m│   \u001b[0mprovider_tasks = PROVIDERS.get(provider)  \u001b[2m# type: ignore\u001b[0m                   \u001b[31m \u001b[0m\n",
      "\u001b[31m \u001b[0m   \u001b[2m168 \u001b[0m\u001b[2m│   \u001b[0m\u001b[94mif\u001b[0m provider_tasks \u001b[95mis\u001b[0m \u001b[94mNone\u001b[0m:                                                 \u001b[31m \u001b[0m\n",
      "\u001b[31m────────────────────────────────────────────────────────────────────────────────────────\u001b[0m\n",
      "\u001b[1;91mStopIteration\u001b[0m\n",
      "\n",
      "\u001b[3mThe above exception was the direct cause of the following exception:\u001b[0m\n",
      "\n",
      "\u001b[31m──\u001b[0m\u001b[31m────────────────────────\u001b[0m\u001b[31m \u001b[0m\u001b[1;31mTraceback \u001b[0m\u001b[1;2;31m(most recent call last)\u001b[0m\u001b[31m \u001b[0m\u001b[31m─────────────────────────\u001b[0m\u001b[31m──\u001b[0m\n",
      "\u001b[31m \u001b[0m \u001b[2;33m/home/purandhar/miniconda3/lib/python3.12/site-packages/streamlit/runtime/scriptrunn\u001b[0m \u001b[31m \u001b[0m\n",
      "\u001b[31m \u001b[0m \u001b[2;33mer/\u001b[0m\u001b[1;33mexec_code.py\u001b[0m:\u001b[94m121\u001b[0m in \u001b[92mexec_func_with_error_handling\u001b[0m                                 \u001b[31m \u001b[0m\n",
      "\u001b[31m \u001b[0m                                                                                      \u001b[31m \u001b[0m\n",
      "\u001b[31m \u001b[0m \u001b[2;33m/home/purandhar/miniconda3/lib/python3.12/site-packages/streamlit/runtime/scriptrunn\u001b[0m \u001b[31m \u001b[0m\n",
      "\u001b[31m \u001b[0m \u001b[2;33mer/\u001b[0m\u001b[1;33mscript_runner.py\u001b[0m:\u001b[94m648\u001b[0m in \u001b[92mcode_to_exec\u001b[0m                                              \u001b[31m \u001b[0m\n",
      "\u001b[31m \u001b[0m                                                                                      \u001b[31m \u001b[0m\n",
      "\u001b[31m \u001b[0m \u001b[2;33m/home/purandhar/project-6-p6-arabelly-purandhar/\u001b[0m\u001b[1;33mapp.py\u001b[0m:\u001b[94m95\u001b[0m in \u001b[92m<module>\u001b[0m                \u001b[31m \u001b[0m\n",
      "\u001b[31m \u001b[0m                                                                                      \u001b[31m \u001b[0m\n",
      "\u001b[31m \u001b[0m   \u001b[2m 92 \u001b[0m\u001b[2m│   \u001b[0mst.session_state.messages.append({\u001b[33m\"\u001b[0m\u001b[33mrole\u001b[0m\u001b[33m\"\u001b[0m: \u001b[33m\"\u001b[0m\u001b[33muser\u001b[0m\u001b[33m\"\u001b[0m, \u001b[33m\"\u001b[0m\u001b[33mcontent\u001b[0m\u001b[33m\"\u001b[0m: prompt})      \u001b[31m \u001b[0m\n",
      "\u001b[31m \u001b[0m   \u001b[2m 93 \u001b[0m\u001b[2m│   \u001b[0mst.chat_message(\u001b[33m\"\u001b[0m\u001b[33muser\u001b[0m\u001b[33m\"\u001b[0m).write(prompt)                                      \u001b[31m \u001b[0m\n",
      "\u001b[31m \u001b[0m   \u001b[2m 94 \u001b[0m\u001b[2m│   \u001b[0m                                                                           \u001b[31m \u001b[0m\n",
      "\u001b[31m \u001b[0m \u001b[31m❱ \u001b[0m 95 \u001b[2m│   \u001b[0mresponse = \u001b[1;4mrag_pipeline.run({\u001b[0m                                              \u001b[31m \u001b[0m\n",
      "\u001b[31m \u001b[0m   \u001b[2m 96 \u001b[0m\u001b[1;2;4m│   │   \u001b[0m\u001b[1;4;33m\"\u001b[0m\u001b[1;4;33mprompt_builder\u001b[0m\u001b[1;4;33m\"\u001b[0m\u001b[1;4m: {\u001b[0m\u001b[1;4;33m\"\u001b[0m\u001b[1;4;33mquery\u001b[0m\u001b[1;4;33m\"\u001b[0m\u001b[1;4m: prompt},\u001b[0m                                   \u001b[31m \u001b[0m\n",
      "\u001b[31m \u001b[0m   \u001b[2m 97 \u001b[0m\u001b[1;2;4m│   │   \u001b[0m\u001b[1;4;33m\"\u001b[0m\u001b[1;4;33mretriever\u001b[0m\u001b[1;4;33m\"\u001b[0m\u001b[1;4m: {\u001b[0m\u001b[1;4;33m\"\u001b[0m\u001b[1;4;33mquery\u001b[0m\u001b[1;4;33m\"\u001b[0m\u001b[1;4m: prompt}\u001b[0m                                         \u001b[31m \u001b[0m\n",
      "\u001b[31m \u001b[0m   \u001b[2m 98 \u001b[0m\u001b[1;2;4m│   \u001b[0m\u001b[1;4m})\u001b[0m[\u001b[33m'\u001b[0m\u001b[33mllm\u001b[0m\u001b[33m'\u001b[0m][\u001b[33m'\u001b[0m\u001b[33mreplies\u001b[0m\u001b[33m'\u001b[0m][\u001b[94m0\u001b[0m]                                                    \u001b[31m \u001b[0m\n",
      "\u001b[31m \u001b[0m                                                                                      \u001b[31m \u001b[0m\n",
      "\u001b[31m \u001b[0m \u001b[2;33m/home/purandhar/miniconda3/lib/python3.12/site-packages/haystack/core/pipeline/\u001b[0m\u001b[1;33mpipel\u001b[0m \u001b[31m \u001b[0m\n",
      "\u001b[31m \u001b[0m \u001b[1;33mine.py\u001b[0m:\u001b[94m235\u001b[0m in \u001b[92mrun\u001b[0m                                                                    \u001b[31m \u001b[0m\n",
      "\u001b[31m \u001b[0m                                                                                      \u001b[31m \u001b[0m\n",
      "\u001b[31m \u001b[0m   \u001b[2m232 \u001b[0m\u001b[2m│   │   │   │   \u001b[0m\u001b[2m# initialization\u001b[0m                                               \u001b[31m \u001b[0m\n",
      "\u001b[31m \u001b[0m   \u001b[2m233 \u001b[0m\u001b[2m│   │   │   │   \u001b[0mcomponent_inputs = \u001b[96mself\u001b[0m._add_missing_input_defaults(component_ \u001b[31m \u001b[0m\n",
      "\u001b[31m \u001b[0m   \u001b[2m234 \u001b[0m\u001b[2m│   │   │   │   \u001b[0m                                                               \u001b[31m \u001b[0m\n",
      "\u001b[31m \u001b[0m \u001b[31m❱ \u001b[0m235 \u001b[2m│   │   │   │   \u001b[0mcomponent_outputs = \u001b[96mself\u001b[0m._run_component(                       \u001b[31m \u001b[0m\n",
      "\u001b[31m \u001b[0m   \u001b[2m236 \u001b[0m\u001b[2m│   │   │   │   │   \u001b[0mcomponent_name=component_name,                             \u001b[31m \u001b[0m\n",
      "\u001b[31m \u001b[0m   \u001b[2m237 \u001b[0m\u001b[2m│   │   │   │   │   \u001b[0mcomponent=component,                                       \u001b[31m \u001b[0m\n",
      "\u001b[31m \u001b[0m   \u001b[2m238 \u001b[0m\u001b[2m│   │   │   │   │   \u001b[0minputs=component_inputs,                                   \u001b[31m \u001b[0m\n",
      "\u001b[31m \u001b[0m                                                                                      \u001b[31m \u001b[0m\n",
      "\u001b[31m \u001b[0m \u001b[2;33m/home/purandhar/miniconda3/lib/python3.12/site-packages/haystack/core/pipeline/\u001b[0m\u001b[1;33mpipel\u001b[0m \u001b[31m \u001b[0m\n",
      "\u001b[31m \u001b[0m \u001b[1;33mine.py\u001b[0m:\u001b[94m62\u001b[0m in \u001b[92m_run_component\u001b[0m                                                          \u001b[31m \u001b[0m\n",
      "\u001b[31m \u001b[0m                                                                                      \u001b[31m \u001b[0m\n",
      "\u001b[31m \u001b[0m   \u001b[2m 59 \u001b[0m\u001b[2m│   │   │   \u001b[0m\u001b[94mtry\u001b[0m:                                                               \u001b[31m \u001b[0m\n",
      "\u001b[31m \u001b[0m   \u001b[2m 60 \u001b[0m\u001b[2m│   │   │   │   \u001b[0mcomponent_output = instance.run(**inputs)                      \u001b[31m \u001b[0m\n",
      "\u001b[31m \u001b[0m   \u001b[2m 61 \u001b[0m\u001b[2m│   │   │   \u001b[0m\u001b[94mexcept\u001b[0m \u001b[96mException\u001b[0m \u001b[94mas\u001b[0m error:                                         \u001b[31m \u001b[0m\n",
      "\u001b[31m \u001b[0m \u001b[31m❱ \u001b[0m 62 \u001b[2m│   │   │   │   \u001b[0m\u001b[1;4;94mraise\u001b[0m\u001b[1;4m PipelineRuntimeError.from_exception(component_name, inst\u001b[0m \u001b[31m \u001b[0m\n",
      "\u001b[31m \u001b[0m   \u001b[2m 63 \u001b[0m\u001b[2m│   │   │   \u001b[0mcomponent_visits[component_name] += \u001b[94m1\u001b[0m                              \u001b[31m \u001b[0m\n",
      "\u001b[31m \u001b[0m   \u001b[2m 64 \u001b[0m\u001b[2m│   │   │   \u001b[0m                                                                   \u001b[31m \u001b[0m\n",
      "\u001b[31m \u001b[0m   \u001b[2m 65 \u001b[0m\u001b[2m│   │   │   \u001b[0m\u001b[94mif\u001b[0m \u001b[95mnot\u001b[0m \u001b[96misinstance\u001b[0m(component_output, Mapping):                      \u001b[31m \u001b[0m\n",
      "\u001b[31m────────────────────────────────────────────────────────────────────────────────────────\u001b[0m\n",
      "\u001b[1;91mPipelineRuntimeError: \u001b[0mThe following component failed to run:\n",
      "Component name: \u001b[32m'llm'\u001b[0m\n",
      "Component type: \u001b[32m'HuggingFaceAPIGenerator'\u001b[0m\n",
      "Error: \n",
      "^C\n",
      "\u001b[34m  Stopping...\u001b[0m\n"
     ]
    }
   ],
   "source": [
    "!streamlit run app.py & npx localtunnel --port 8501"
   ]
  },
  {
   "cell_type": "code",
   "execution_count": null,
   "id": "4f5d04ce-4542-45d6-b724-33b1f7455ce2",
   "metadata": {},
   "outputs": [],
   "source": []
  }
 ],
 "metadata": {
  "kernelspec": {
   "display_name": "Python 3 (ipykernel)",
   "language": "python",
   "name": "python3"
  },
  "language_info": {
   "codemirror_mode": {
    "name": "ipython",
    "version": 3
   },
   "file_extension": ".py",
   "mimetype": "text/x-python",
   "name": "python",
   "nbconvert_exporter": "python",
   "pygments_lexer": "ipython3",
   "version": "3.10.12"
  }
 },
 "nbformat": 4,
 "nbformat_minor": 5
}
