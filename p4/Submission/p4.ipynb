{
 "cells": [
  {
   "cell_type": "markdown",
   "id": "d5460f22-d4c5-480d-9ebe-d9aa8915b058",
   "metadata": {},
   "source": [
    "# Q3"
   ]
  },
  {
   "cell_type": "code",
   "execution_count": 1,
   "id": "9ca65800-e51c-4a77-b10b-3380ba1f4a20",
   "metadata": {},
   "outputs": [
    {
     "name": "stdout",
     "output_type": "stream",
     "text": [
      "/home/arabellyabhinav/.local/bin/dbt\n"
     ]
    }
   ],
   "source": [
    "!which dbt"
   ]
  },
  {
   "cell_type": "markdown",
   "id": "1e8f9705-0830-4fb7-9a8d-8e905d0fcf64",
   "metadata": {},
   "source": [
    "# Q9"
   ]
  },
  {
   "cell_type": "code",
   "execution_count": 2,
   "id": "7235fec9-3918-4ee1-ac73-7050b2c9c82d",
   "metadata": {},
   "outputs": [
    {
     "name": "stdout",
     "output_type": "stream",
     "text": [
      "p4_data_pipeline:\n",
      "  outputs:\n",
      "    dev:\n",
      "      account: xzizkft-hh42877\n",
      "      database: SURVEY_DATABASE\n",
      "      role: P4_ROLE\n",
      "      schema: SURVEY_SCHEMA\n",
      "      threads: 1\n",
      "      type: snowflake\n",
      "      user: ABHINAVARABELLY\n",
      "      warehouse: P4_WAREHOUSE\n",
      "  target: dev\n"
     ]
    }
   ],
   "source": [
    "!grep -v password ~/.dbt/profiles.yml"
   ]
  },
  {
   "cell_type": "code",
   "execution_count": 3,
   "id": "c7b747f1-1ff3-4bff-a275-1a2ba533cf9e",
   "metadata": {},
   "outputs": [
    {
     "name": "stdout",
     "output_type": "stream",
     "text": [
      "version: 2\n",
      "\n",
      "sources:\n",
      "  - name: P4\n",
      "    database: SURVEY_DATABASE\n",
      "    schema: SURVEY_SCHEMA\n",
      "    tables:\n",
      "      - name: SURVEY\n",
      "models:\n",
      "  - name: transform_survey\n",
      "    description: \"Transform Survey DB\"\n"
     ]
    }
   ],
   "source": [
    "!cat ~/p4_data_pipeline/models/schema.yml"
   ]
  },
  {
   "cell_type": "code",
   "execution_count": 4,
   "id": "c36c7e7a-2dd3-4ead-985a-4db7d75e9492",
   "metadata": {},
   "outputs": [
    {
     "name": "stdout",
     "output_type": "stream",
     "text": [
      "with raw_survey as (\n",
      "    select * from {{ source('P4', 'SURVEY') }}\n",
      "),\n",
      "\n",
      "transform_survey as (\n",
      "    select\n",
      "        {{ adapter.quote('EMAIL_ADDRESS') }} as email,\n",
      "        {{ adapter.quote('WHAT_IS_YOUR_AGE_') }} as age,\n",
      "        {{ adapter.quote('WHICH_BEST_DESCRIBES_YOUR_PRIMARY_MAJOR_OR_FIELD_OF_STUDY_IF_YOU_HAVE_MORE_THAN_ONE_MAJOR_PLEASE_SPECIFY_OTHER_MAJORS_AS_PART_OF_THE_NEXT_QUESTION_') }} as primary_major,\n",
      "\t{{ adapter.quote('IF_YOU_HAVE_SECONDARY_MAJORS_PLEASE_LIST_THEM_HERE_SEPARATED_BY_A_COMMA_') }} as secondary_major,\n",
      "\t{{ adapter.quote('WHAT_FACTOR_INFLUENCES_YOUR_COURSE_SELECTION_THE_MOST_') }} as course_influence,\n",
      "\t{{ adapter.quote('WHAT_IS_THE_5_DIGIT_ZIP_CODE_OF_YOUR_RESIDENCE_WHILE_ATTENDING_CLASSES_IF_YOU_ARE_NOT_SURE_CHECK_HERE_HTTPS_TOOLS_USPS_COM_ZIP_CODE_LOOKUP_HTM_BYADDRESS_') }} as zip_code,\n",
      "\t{{ adapter.quote('WHAT_IS_YOUR_FAVORITE_PIZZA_TOPPING_') }} as favorite_topping,\n",
      "\t{{ adapter.quote('HAVE_YOU_EVER_IN_YOUR_LIFE_HAD_A_PET_') }} as has_pet,\n",
      "\t{{ adapter.quote('ARE_YOU_A_RUNNER_CONSIDER_BOTH_RUNNING_ON_TREADMILL_AND_OUTDOORS_') }} as is_runner,\n",
      "\t{{ adapter.quote('WOULD_YOU_DESCRIBE_YOURSELF_AS_AN_EARLY_BIRD_OR_A_NIGHT_OWL_') }} as sleep_type,\n",
      "\t{{ adapter.quote('DO_YOU_CONSIDER_YOURSELF_A_PROCRASTINATOR_') }} as is_procrastinator,\n",
      "\t{{ adapter.quote('IF_YOU_HAD_AN_EXTRA_HOUR_IN_YOUR_DAY_HOW_WOULD_YOU_SPEND_IT_') }} as extra_hour,\n",
      "\t{{ adapter.quote('WHAT_IS_YOUR_FAVORITE_HOBBY_') }} as favorite_hobby,\n",
      "\t{{ adapter.quote('WHAT_IS_YOUR_CURRENT_STANDING') }} as academic_standing\n",
      "    from raw_survey\n",
      ")\n",
      "\n",
      "select * from transform_survey\n"
     ]
    }
   ],
   "source": [
    "!cat ~/p4_data_pipeline/models/staging/transform_survey.sql\n"
   ]
  },
  {
   "cell_type": "code",
   "execution_count": 10,
   "id": "a371c383-0174-4e23-8c1b-86e1cebad62d",
   "metadata": {},
   "outputs": [],
   "source": [
    "import pandas as pd\n",
    "import matplotlib.pyplot as plt\n",
    "import snowflake.connector"
   ]
  },
  {
   "cell_type": "code",
   "execution_count": 11,
   "id": "dead7435-8f8d-45c3-adcc-7fc322e9afca",
   "metadata": {},
   "outputs": [],
   "source": [
    "with open('password.txt','r') as file:\n",
    "    password = file.read()\n",
    "    password = password.strip()"
   ]
  },
  {
   "cell_type": "code",
   "execution_count": 4,
   "id": "881ca1f5-9ff9-4de9-a6d2-98a9c628cf0c",
   "metadata": {},
   "outputs": [],
   "source": [
    "connector = snowflake.connector.connect(\n",
    "    user=\"ABHINAVARABELLY\",\n",
    "    password=password,\n",
    "    account=\"xzizkft-hh42877\",\n",
    "    warehouse=\"P4_WAREHOUSE\",\n",
    "    database=\"STOCK_DB\",\n",
    "    schema=\"STOCK_SCHEMA\",\n",
    "    role=\"P4_ROLE\",\n",
    ")"
   ]
  },
  {
   "cell_type": "code",
   "execution_count": 14,
   "id": "564ad6f4-7944-4de4-a7c7-3473bc4c0082",
   "metadata": {},
   "outputs": [],
   "source": [
    "connector_new = snowflake.connector.connect(\n",
    "    user=\"ABHINAVARABELLY\",\n",
    "    password=password,\n",
    "    account=\"xzizkft-hh42877\",\n",
    "    warehouse=\"P4_WAREHOUSE\",\n",
    "    database=\"SURVEY_DATABASE\",\n",
    "    schema=\"SURVEY_SCHEMA\",\n",
    "    role=\"P4_ROLE\",\n",
    ")"
   ]
  },
  {
   "cell_type": "markdown",
   "id": "25ef18fa-0a39-4f70-8730-738236e452b1",
   "metadata": {},
   "source": [
    "# Q10"
   ]
  },
  {
   "cell_type": "code",
   "execution_count": 16,
   "id": "1810add0-6926-4f1f-a6c4-9843e29f6ddb",
   "metadata": {},
   "outputs": [
    {
     "name": "stderr",
     "output_type": "stream",
     "text": [
      "/tmp/ipykernel_59746/136905324.py:14: UserWarning: pandas only supports SQLAlchemy connectable (engine/connection) or database string URI or sqlite3 DBAPI2 connection. Other DBAPI2 objects are not tested. Please consider using SQLAlchemy.\n",
      "  df = pd.read_sql(query, connector_new)\n"
     ]
    },
    {
     "data": {
      "text/html": [
       "<div>\n",
       "<style scoped>\n",
       "    .dataframe tbody tr th:only-of-type {\n",
       "        vertical-align: middle;\n",
       "    }\n",
       "\n",
       "    .dataframe tbody tr th {\n",
       "        vertical-align: top;\n",
       "    }\n",
       "\n",
       "    .dataframe thead th {\n",
       "        text-align: right;\n",
       "    }\n",
       "</style>\n",
       "<table border=\"1\" class=\"dataframe\">\n",
       "  <thead>\n",
       "    <tr style=\"text-align: right;\">\n",
       "      <th></th>\n",
       "      <th>MAJOR</th>\n",
       "      <th>SLEEP_PREFERENCE</th>\n",
       "      <th>COUNT</th>\n",
       "    </tr>\n",
       "  </thead>\n",
       "  <tbody>\n",
       "    <tr>\n",
       "      <th>0</th>\n",
       "      <td>Business: Actuarial</td>\n",
       "      <td>early bird</td>\n",
       "      <td>1</td>\n",
       "    </tr>\n",
       "    <tr>\n",
       "      <th>1</th>\n",
       "      <td>Business: Information Systems</td>\n",
       "      <td>night owl</td>\n",
       "      <td>1</td>\n",
       "    </tr>\n",
       "    <tr>\n",
       "      <th>2</th>\n",
       "      <td>Business: Other</td>\n",
       "      <td>early bird</td>\n",
       "      <td>1</td>\n",
       "    </tr>\n",
       "    <tr>\n",
       "      <th>3</th>\n",
       "      <td>Computer Science</td>\n",
       "      <td>night owl</td>\n",
       "      <td>51</td>\n",
       "    </tr>\n",
       "    <tr>\n",
       "      <th>4</th>\n",
       "      <td>Computer Science</td>\n",
       "      <td>early bird</td>\n",
       "      <td>13</td>\n",
       "    </tr>\n",
       "    <tr>\n",
       "      <th>5</th>\n",
       "      <td>Computer Science</td>\n",
       "      <td>no preference</td>\n",
       "      <td>12</td>\n",
       "    </tr>\n",
       "    <tr>\n",
       "      <th>6</th>\n",
       "      <td>Data Science</td>\n",
       "      <td>night owl</td>\n",
       "      <td>39</td>\n",
       "    </tr>\n",
       "    <tr>\n",
       "      <th>7</th>\n",
       "      <td>Data Science</td>\n",
       "      <td>early bird</td>\n",
       "      <td>17</td>\n",
       "    </tr>\n",
       "    <tr>\n",
       "      <th>8</th>\n",
       "      <td>Data Science</td>\n",
       "      <td>no preference</td>\n",
       "      <td>13</td>\n",
       "    </tr>\n",
       "    <tr>\n",
       "      <th>9</th>\n",
       "      <td>Engineering: Other</td>\n",
       "      <td>night owl</td>\n",
       "      <td>2</td>\n",
       "    </tr>\n",
       "    <tr>\n",
       "      <th>10</th>\n",
       "      <td>Mathematics/AMEP</td>\n",
       "      <td>night owl</td>\n",
       "      <td>4</td>\n",
       "    </tr>\n",
       "    <tr>\n",
       "      <th>11</th>\n",
       "      <td>Other</td>\n",
       "      <td>night owl</td>\n",
       "      <td>1</td>\n",
       "    </tr>\n",
       "    <tr>\n",
       "      <th>12</th>\n",
       "      <td>Science: Physics</td>\n",
       "      <td>night owl</td>\n",
       "      <td>1</td>\n",
       "    </tr>\n",
       "    <tr>\n",
       "      <th>13</th>\n",
       "      <td>Science: Physics</td>\n",
       "      <td>early bird</td>\n",
       "      <td>1</td>\n",
       "    </tr>\n",
       "    <tr>\n",
       "      <th>14</th>\n",
       "      <td>Statistics</td>\n",
       "      <td>night owl</td>\n",
       "      <td>2</td>\n",
       "    </tr>\n",
       "  </tbody>\n",
       "</table>\n",
       "</div>"
      ],
      "text/plain": [
       "                            MAJOR SLEEP_PREFERENCE  COUNT\n",
       "0             Business: Actuarial       early bird      1\n",
       "1   Business: Information Systems        night owl      1\n",
       "2                 Business: Other       early bird      1\n",
       "3                Computer Science        night owl     51\n",
       "4                Computer Science       early bird     13\n",
       "5                Computer Science    no preference     12\n",
       "6                    Data Science        night owl     39\n",
       "7                    Data Science       early bird     17\n",
       "8                    Data Science    no preference     13\n",
       "9              Engineering: Other        night owl      2\n",
       "10               Mathematics/AMEP        night owl      4\n",
       "11                          Other        night owl      1\n",
       "12               Science: Physics        night owl      1\n",
       "13               Science: Physics       early bird      1\n",
       "14                     Statistics        night owl      2"
      ]
     },
     "execution_count": 16,
     "metadata": {},
     "output_type": "execute_result"
    }
   ],
   "source": [
    "#How does the preference for being an \"early bird\" or \"night owl\" vary by major?\n",
    "\n",
    "query = \"\"\"SELECT \n",
    "    WHICH_BEST_DESCRIBES_YOUR_PRIMARY_MAJOR_OR_FIELD_OF_STUDY_IF_YOU_HAVE_MORE_THAN_ONE_MAJOR_PLEASE_SPECIFY_OTHER_MAJORS_AS_PART_OF_THE_NEXT_QUESTION_ AS major,\n",
    "    WOULD_YOU_DESCRIBE_YOURSELF_AS_AN_EARLY_BIRD_OR_A_NIGHT_OWL_ AS sleep_preference,\n",
    "    COUNT(*) AS count\n",
    "FROM \n",
    "    SURVEY\n",
    "GROUP BY \n",
    "    major, sleep_preference\n",
    "ORDER BY \n",
    "    major, count DESC;\"\"\"\n",
    "\n",
    "df = pd.read_sql(query, connector_new)\n",
    "df"
   ]
  },
  {
   "cell_type": "markdown",
   "id": "cc792371-bd7d-44f1-857c-e5f7988aaf9b",
   "metadata": {},
   "source": [
    "# Q11"
   ]
  },
  {
   "cell_type": "code",
   "execution_count": 19,
   "id": "ed6bde07-d0fc-42a6-93f6-49f1166e51e5",
   "metadata": {},
   "outputs": [
    {
     "name": "stderr",
     "output_type": "stream",
     "text": [
      "/tmp/ipykernel_59746/947451648.py:16: UserWarning: pandas only supports SQLAlchemy connectable (engine/connection) or database string URI or sqlite3 DBAPI2 connection. Other DBAPI2 objects are not tested. Please consider using SQLAlchemy.\n",
      "  df = pd.read_sql(query, connector_new)\n"
     ]
    },
    {
     "data": {
      "text/html": [
       "<div>\n",
       "<style scoped>\n",
       "    .dataframe tbody tr th:only-of-type {\n",
       "        vertical-align: middle;\n",
       "    }\n",
       "\n",
       "    .dataframe tbody tr th {\n",
       "        vertical-align: top;\n",
       "    }\n",
       "\n",
       "    .dataframe thead th {\n",
       "        text-align: right;\n",
       "    }\n",
       "</style>\n",
       "<table border=\"1\" class=\"dataframe\">\n",
       "  <thead>\n",
       "    <tr style=\"text-align: right;\">\n",
       "      <th></th>\n",
       "      <th>ZIP_CODE</th>\n",
       "      <th>PET_OWNERSHIP_PERCENTAGE</th>\n",
       "    </tr>\n",
       "  </thead>\n",
       "  <tbody>\n",
       "    <tr>\n",
       "      <th>0</th>\n",
       "      <td>53726</td>\n",
       "      <td>100.00</td>\n",
       "    </tr>\n",
       "    <tr>\n",
       "      <th>1</th>\n",
       "      <td>53724</td>\n",
       "      <td>100.00</td>\n",
       "    </tr>\n",
       "    <tr>\n",
       "      <th>2</th>\n",
       "      <td>53073</td>\n",
       "      <td>100.00</td>\n",
       "    </tr>\n",
       "    <tr>\n",
       "      <th>3</th>\n",
       "      <td>53704</td>\n",
       "      <td>100.00</td>\n",
       "    </tr>\n",
       "    <tr>\n",
       "      <th>4</th>\n",
       "      <td>53702</td>\n",
       "      <td>100.00</td>\n",
       "    </tr>\n",
       "    <tr>\n",
       "      <th>5</th>\n",
       "      <td>53703</td>\n",
       "      <td>79.41</td>\n",
       "    </tr>\n",
       "    <tr>\n",
       "      <th>6</th>\n",
       "      <td>53706</td>\n",
       "      <td>72.73</td>\n",
       "    </tr>\n",
       "    <tr>\n",
       "      <th>7</th>\n",
       "      <td>53711</td>\n",
       "      <td>71.43</td>\n",
       "    </tr>\n",
       "    <tr>\n",
       "      <th>8</th>\n",
       "      <td>53715</td>\n",
       "      <td>62.50</td>\n",
       "    </tr>\n",
       "    <tr>\n",
       "      <th>9</th>\n",
       "      <td>53719</td>\n",
       "      <td>50.00</td>\n",
       "    </tr>\n",
       "    <tr>\n",
       "      <th>10</th>\n",
       "      <td>None</td>\n",
       "      <td>40.00</td>\n",
       "    </tr>\n",
       "    <tr>\n",
       "      <th>11</th>\n",
       "      <td>53705</td>\n",
       "      <td>37.50</td>\n",
       "    </tr>\n",
       "    <tr>\n",
       "      <th>12</th>\n",
       "      <td>53590</td>\n",
       "      <td>0.00</td>\n",
       "    </tr>\n",
       "  </tbody>\n",
       "</table>\n",
       "</div>"
      ],
      "text/plain": [
       "   ZIP_CODE  PET_OWNERSHIP_PERCENTAGE\n",
       "0     53726                    100.00\n",
       "1     53724                    100.00\n",
       "2     53073                    100.00\n",
       "3     53704                    100.00\n",
       "4     53702                    100.00\n",
       "5     53703                     79.41\n",
       "6     53706                     72.73\n",
       "7     53711                     71.43\n",
       "8     53715                     62.50\n",
       "9     53719                     50.00\n",
       "10     None                     40.00\n",
       "11    53705                     37.50\n",
       "12    53590                      0.00"
      ]
     },
     "execution_count": 19,
     "metadata": {},
     "output_type": "execute_result"
    }
   ],
   "source": [
    "#What percentage of students in each ZIP code have pets?\n",
    "\n",
    "query = \"\"\"SELECT \n",
    "    WHAT_IS_THE_5_DIGIT_ZIP_CODE_OF_YOUR_RESIDENCE_WHILE_ATTENDING_CLASSES_IF_YOU_ARE_NOT_SURE_CHECK_HERE_HTTPS_TOOLS_USPS_COM_ZIP_CODE_LOOKUP_HTM_BYADDRESS_ AS zip_code,\n",
    "    ROUND(\n",
    "        100.0 * SUM(CASE WHEN HAVE_YOU_EVER_IN_YOUR_LIFE_HAD_A_PET_ = 'Yes' THEN 1 ELSE 0 END) / COUNT(*),\n",
    "        2\n",
    "    ) AS pet_ownership_percentage\n",
    "FROM \n",
    "    survey\n",
    "GROUP BY \n",
    "    zip_code\n",
    "ORDER BY \n",
    "    pet_ownership_percentage DESC;\"\"\"\n",
    "\n",
    "df = pd.read_sql(query, connector_new)\n",
    "df    "
   ]
  },
  {
   "cell_type": "markdown",
   "id": "9c13466e-f289-4f90-997e-83e3ab9b66b7",
   "metadata": {},
   "source": [
    "# Q12"
   ]
  },
  {
   "cell_type": "code",
   "execution_count": 22,
   "id": "ab22d8e2-7477-4500-a52a-6f2332f29f01",
   "metadata": {},
   "outputs": [
    {
     "name": "stderr",
     "output_type": "stream",
     "text": [
      "/tmp/ipykernel_59746/3350059095.py:16: UserWarning: pandas only supports SQLAlchemy connectable (engine/connection) or database string URI or sqlite3 DBAPI2 connection. Other DBAPI2 objects are not tested. Please consider using SQLAlchemy.\n",
      "  df = pd.read_sql(query, connector_new)\n"
     ]
    },
    {
     "data": {
      "text/html": [
       "<div>\n",
       "<style scoped>\n",
       "    .dataframe tbody tr th:only-of-type {\n",
       "        vertical-align: middle;\n",
       "    }\n",
       "\n",
       "    .dataframe tbody tr th {\n",
       "        vertical-align: top;\n",
       "    }\n",
       "\n",
       "    .dataframe thead th {\n",
       "        text-align: right;\n",
       "    }\n",
       "</style>\n",
       "<table border=\"1\" class=\"dataframe\">\n",
       "  <thead>\n",
       "    <tr style=\"text-align: right;\">\n",
       "      <th></th>\n",
       "      <th>HOBBY</th>\n",
       "      <th>AVERAGE_AGE</th>\n",
       "      <th>HOBBY_COUNT</th>\n",
       "    </tr>\n",
       "  </thead>\n",
       "  <tbody>\n",
       "    <tr>\n",
       "      <th>0</th>\n",
       "      <td>Reading</td>\n",
       "      <td>21.0</td>\n",
       "      <td>6</td>\n",
       "    </tr>\n",
       "    <tr>\n",
       "      <th>1</th>\n",
       "      <td>Guitar</td>\n",
       "      <td>20.8</td>\n",
       "      <td>4</td>\n",
       "    </tr>\n",
       "    <tr>\n",
       "      <th>2</th>\n",
       "      <td>basketball</td>\n",
       "      <td>20.3</td>\n",
       "      <td>4</td>\n",
       "    </tr>\n",
       "    <tr>\n",
       "      <th>3</th>\n",
       "      <td>Gaming</td>\n",
       "      <td>20.3</td>\n",
       "      <td>3</td>\n",
       "    </tr>\n",
       "    <tr>\n",
       "      <th>4</th>\n",
       "      <td>Watching movies</td>\n",
       "      <td>20.3</td>\n",
       "      <td>3</td>\n",
       "    </tr>\n",
       "    <tr>\n",
       "      <th>5</th>\n",
       "      <td>Drawing</td>\n",
       "      <td>22.0</td>\n",
       "      <td>3</td>\n",
       "    </tr>\n",
       "    <tr>\n",
       "      <th>6</th>\n",
       "      <td>Basketball</td>\n",
       "      <td>21.0</td>\n",
       "      <td>3</td>\n",
       "    </tr>\n",
       "    <tr>\n",
       "      <th>7</th>\n",
       "      <td>Volleyball</td>\n",
       "      <td>21.0</td>\n",
       "      <td>3</td>\n",
       "    </tr>\n",
       "    <tr>\n",
       "      <th>8</th>\n",
       "      <td>Sports</td>\n",
       "      <td>21.0</td>\n",
       "      <td>3</td>\n",
       "    </tr>\n",
       "    <tr>\n",
       "      <th>9</th>\n",
       "      <td>Watching Movies</td>\n",
       "      <td>21.0</td>\n",
       "      <td>2</td>\n",
       "    </tr>\n",
       "  </tbody>\n",
       "</table>\n",
       "</div>"
      ],
      "text/plain": [
       "             HOBBY  AVERAGE_AGE  HOBBY_COUNT\n",
       "0          Reading         21.0            6\n",
       "1           Guitar         20.8            4\n",
       "2       basketball         20.3            4\n",
       "3           Gaming         20.3            3\n",
       "4  Watching movies         20.3            3\n",
       "5          Drawing         22.0            3\n",
       "6       Basketball         21.0            3\n",
       "7       Volleyball         21.0            3\n",
       "8           Sports         21.0            3\n",
       "9  Watching Movies         21.0            2"
      ]
     },
     "execution_count": 22,
     "metadata": {},
     "output_type": "execute_result"
    }
   ],
   "source": [
    "#What is the average age of students by their favorite hobby category?\n",
    "\n",
    "query = \"\"\"SELECT \n",
    "    WHAT_IS_YOUR_FAVORITE_HOBBY_ AS hobby,\n",
    "    ROUND(AVG(WHAT_IS_YOUR_AGE_), 1) AS average_age,\n",
    "    COUNT(*) AS hobby_count\n",
    "FROM \n",
    "    survey\n",
    "GROUP BY \n",
    "    hobby\n",
    "ORDER BY \n",
    "    hobby_count DESC\n",
    "    LIMIT 10;\"\"\"\n",
    "\n",
    "\n",
    "df = pd.read_sql(query, connector_new)\n",
    "df    "
   ]
  },
  {
   "cell_type": "markdown",
   "id": "1eb8072a-3958-4e6b-a925-8f988bbc7b76",
   "metadata": {},
   "source": [
    "# Q13"
   ]
  },
  {
   "cell_type": "code",
   "execution_count": 27,
   "id": "1c0f0069-b16f-4003-a531-56f569cfe963",
   "metadata": {},
   "outputs": [
    {
     "name": "stderr",
     "output_type": "stream",
     "text": [
      "/tmp/ipykernel_59746/2451971721.py:16: UserWarning: pandas only supports SQLAlchemy connectable (engine/connection) or database string URI or sqlite3 DBAPI2 connection. Other DBAPI2 objects are not tested. Please consider using SQLAlchemy.\n",
      "  df = pd.read_sql(query, connector_new)\n"
     ]
    },
    {
     "data": {
      "text/html": [
       "<div>\n",
       "<style scoped>\n",
       "    .dataframe tbody tr th:only-of-type {\n",
       "        vertical-align: middle;\n",
       "    }\n",
       "\n",
       "    .dataframe tbody tr th {\n",
       "        vertical-align: top;\n",
       "    }\n",
       "\n",
       "    .dataframe thead th {\n",
       "        text-align: right;\n",
       "    }\n",
       "</style>\n",
       "<table border=\"1\" class=\"dataframe\">\n",
       "  <thead>\n",
       "    <tr style=\"text-align: right;\">\n",
       "      <th></th>\n",
       "      <th>ACTIVITY</th>\n",
       "      <th>NUMBER_OF_STUDENTS</th>\n",
       "      <th>PERCENTAGE</th>\n",
       "    </tr>\n",
       "  </thead>\n",
       "  <tbody>\n",
       "    <tr>\n",
       "      <th>0</th>\n",
       "      <td>Working on a hobby</td>\n",
       "      <td>44</td>\n",
       "      <td>27.7</td>\n",
       "    </tr>\n",
       "    <tr>\n",
       "      <th>1</th>\n",
       "      <td>Sleeping</td>\n",
       "      <td>43</td>\n",
       "      <td>27.0</td>\n",
       "    </tr>\n",
       "    <tr>\n",
       "      <th>2</th>\n",
       "      <td>Exercising</td>\n",
       "      <td>33</td>\n",
       "      <td>20.8</td>\n",
       "    </tr>\n",
       "    <tr>\n",
       "      <th>3</th>\n",
       "      <td>Playing video games</td>\n",
       "      <td>21</td>\n",
       "      <td>13.2</td>\n",
       "    </tr>\n",
       "    <tr>\n",
       "      <th>4</th>\n",
       "      <td>Reading for fun</td>\n",
       "      <td>18</td>\n",
       "      <td>11.3</td>\n",
       "    </tr>\n",
       "  </tbody>\n",
       "</table>\n",
       "</div>"
      ],
      "text/plain": [
       "              ACTIVITY  NUMBER_OF_STUDENTS  PERCENTAGE\n",
       "0   Working on a hobby                  44        27.7\n",
       "1             Sleeping                  43        27.0\n",
       "2           Exercising                  33        20.8\n",
       "3  Playing video games                  21        13.2\n",
       "4      Reading for fun                  18        11.3"
      ]
     },
     "execution_count": 27,
     "metadata": {},
     "output_type": "execute_result"
    }
   ],
   "source": [
    "#What's the most popular way students would spend an extra hour in their day?\n",
    "\n",
    "query = \"\"\"SELECT \n",
    "    IF_YOU_HAD_AN_EXTRA_HOUR_IN_YOUR_DAY_HOW_WOULD_YOU_SPEND_IT_ AS activity,\n",
    "    COUNT(*) AS number_of_students,\n",
    "    ROUND(100.0 * COUNT(*) / (SELECT COUNT(*) FROM survey), 1) AS percentage\n",
    "FROM \n",
    "    SURVEY\n",
    "GROUP BY \n",
    "    activity\n",
    "ORDER BY \n",
    "    number_of_students DESC\n",
    "LIMIT 5;\"\"\"\n",
    "\n",
    "\n",
    "df = pd.read_sql(query, connector_new)\n",
    "df  "
   ]
  },
  {
   "cell_type": "markdown",
   "id": "d46838f7-bb51-4b80-baef-3665285d5e45",
   "metadata": {},
   "source": [
    "# Q14"
   ]
  },
  {
   "cell_type": "code",
   "execution_count": 30,
   "id": "996ca3c0-5ca2-462a-8221-3ea148b8b7cc",
   "metadata": {},
   "outputs": [
    {
     "name": "stderr",
     "output_type": "stream",
     "text": [
      "/tmp/ipykernel_59746/2938963547.py:3: UserWarning: pandas only supports SQLAlchemy connectable (engine/connection) or database string URI or sqlite3 DBAPI2 connection. Other DBAPI2 objects are not tested. Please consider using SQLAlchemy.\n",
      "  df = pd.read_sql(\"\"\"\n"
     ]
    },
    {
     "data": {
      "image/png": "[encoded data removed]",
      "text/plain": [
       "<Figure size 800x800 with 1 Axes>"
      ]
     },
     "metadata": {},
     "output_type": "display_data"
    }
   ],
   "source": [
    "#What are the most common pizza toppings among all students?¶\n",
    "\n",
    "df = pd.read_sql(\"\"\"\n",
    "SELECT \n",
    "    WHAT_IS_YOUR_FAVORITE_PIZZA_TOPPING_ AS topping,\n",
    "    COUNT(*) AS count\n",
    "FROM \n",
    "    survey\n",
    "GROUP BY \n",
    "    topping\n",
    "ORDER BY \n",
    "    count DESC;\n",
    "\"\"\", connector_new)\n",
    "df\n",
    "\n",
    "import matplotlib.pyplot as plt\n",
    "\n",
    "plt.figure(figsize=(8, 8))\n",
    "plt.pie(df['COUNT'], labels=df['TOPPING'], autopct='%1.1f%%')\n",
    "plt.title('Pizza Topping Preferences')\n",
    "plt.show()"
   ]
  },
  {
   "cell_type": "markdown",
   "id": "9206594a-38f6-435b-a219-2d63be0e1613",
   "metadata": {},
   "source": [
    "# Q15"
   ]
  },
  {
   "cell_type": "code",
   "execution_count": 33,
   "id": "6f6da01e-cd42-4949-b953-312f1f21a530",
   "metadata": {},
   "outputs": [
    {
     "name": "stderr",
     "output_type": "stream",
     "text": [
      "/tmp/ipykernel_59746/3316374701.py:3: UserWarning: pandas only supports SQLAlchemy connectable (engine/connection) or database string URI or sqlite3 DBAPI2 connection. Other DBAPI2 objects are not tested. Please consider using SQLAlchemy.\n",
      "  df = pd.read_sql(\"\"\"\n"
     ]
    },
    {
     "data": {
      "image/png": "[encoded data removed]",
      "text/plain": [
       "<Figure size 800x500 with 1 Axes>"
      ]
     },
     "metadata": {},
     "output_type": "display_data"
    }
   ],
   "source": [
    "#Which zip codes has the most students in the survey?\n",
    "\n",
    "df = pd.read_sql(\"\"\"\n",
    "SELECT \n",
    "    TOP 5 WHAT_IS_THE_5_DIGIT_ZIP_CODE_OF_YOUR_RESIDENCE_WHILE_ATTENDING_CLASSES_IF_YOU_ARE_NOT_SURE_CHECK_HERE_HTTPS_TOOLS_USPS_COM_ZIP_CODE_LOOKUP_HTM_BYADDRESS_ AS zip_code,\n",
    "    COUNT(*) AS student_count\n",
    "FROM \n",
    "    survey\n",
    "GROUP BY \n",
    "    zip_code\n",
    "ORDER BY \n",
    "    student_count DESC;\n",
    "\"\"\", connector_new)\n",
    "df\n",
    "\n",
    "import matplotlib.pyplot as plt\n",
    "\n",
    "plt.figure(figsize=(8, 5))\n",
    "plt.bar(df['ZIP_CODE'].astype(str), df['STUDENT_COUNT'])\n",
    "\n",
    "plt.title('Top 10 Student Zip Codes')\n",
    "plt.xlabel('Zip Code')\n",
    "plt.ylabel('Number of Students')\n",
    "\n",
    "plt.show()"
   ]
  },
  {
   "cell_type": "markdown",
   "id": "62264913-764c-4342-a8b1-b167f003f682",
   "metadata": {},
   "source": [
    "# Q16"
   ]
  },
  {
   "cell_type": "code",
   "execution_count": 35,
   "id": "6cceaff9-bd0c-4b4c-9260-d7c333b30052",
   "metadata": {},
   "outputs": [
    {
     "name": "stderr",
     "output_type": "stream",
     "text": [
      "/tmp/ipykernel_59746/1238830427.py:15: UserWarning: pandas only supports SQLAlchemy connectable (engine/connection) or database string URI or sqlite3 DBAPI2 connection. Other DBAPI2 objects are not tested. Please consider using SQLAlchemy.\n",
      "  df = pd.read_sql(query, connector_new)\n"
     ]
    },
    {
     "data": {
      "text/html": [
       "<div>\n",
       "<style scoped>\n",
       "    .dataframe tbody tr th:only-of-type {\n",
       "        vertical-align: middle;\n",
       "    }\n",
       "\n",
       "    .dataframe tbody tr th {\n",
       "        vertical-align: top;\n",
       "    }\n",
       "\n",
       "    .dataframe thead th {\n",
       "        text-align: right;\n",
       "    }\n",
       "</style>\n",
       "<table border=\"1\" class=\"dataframe\">\n",
       "  <thead>\n",
       "    <tr style=\"text-align: right;\">\n",
       "      <th></th>\n",
       "      <th>RUNNER_STATUS</th>\n",
       "      <th>NUMBER_OF_STUDENTS</th>\n",
       "      <th>PERCENTAGE</th>\n",
       "    </tr>\n",
       "  </thead>\n",
       "  <tbody>\n",
       "    <tr>\n",
       "      <th>0</th>\n",
       "      <td>Non-Runner</td>\n",
       "      <td>99</td>\n",
       "      <td>62.3</td>\n",
       "    </tr>\n",
       "    <tr>\n",
       "      <th>1</th>\n",
       "      <td>Runner</td>\n",
       "      <td>60</td>\n",
       "      <td>37.7</td>\n",
       "    </tr>\n",
       "  </tbody>\n",
       "</table>\n",
       "</div>"
      ],
      "text/plain": [
       "  RUNNER_STATUS  NUMBER_OF_STUDENTS  PERCENTAGE\n",
       "0    Non-Runner                  99        62.3\n",
       "1        Runner                  60        37.7"
      ]
     },
     "execution_count": 35,
     "metadata": {},
     "output_type": "execute_result"
    }
   ],
   "source": [
    "#How many students are runners vs. non-runners?\n",
    "\n",
    "query = \"\"\"SELECT  \n",
    "    CASE \n",
    "        WHEN ARE_YOU_A_RUNNER_CONSIDER_BOTH_RUNNING_ON_TREADMILL_AND_OUTDOORS_ = 'Yes' THEN 'Runner'\n",
    "        ELSE 'Non-Runner'  \n",
    "    END AS runner_status,  \n",
    "    COUNT(*) AS number_of_students,\n",
    "    ROUND(100.0 * COUNT(*) / (SELECT COUNT(*) FROM survey), 1) AS percentage\n",
    "FROM  \n",
    "    survey \n",
    "GROUP BY  \n",
    "    runner_status;\"\"\"\n",
    "\n",
    "df = pd.read_sql(query, connector_new)\n",
    "df  "
   ]
  },
  {
   "cell_type": "markdown",
   "id": "a25937e5-2e7e-4e22-beb0-76e32d4aadfa",
   "metadata": {},
   "source": [
    "# Q18"
   ]
  },
  {
   "cell_type": "code",
   "execution_count": 5,
   "id": "38284b1d-6d24-428f-acf3-31a499cf2fdf",
   "metadata": {},
   "outputs": [
    {
     "name": "stdout",
     "output_type": "stream",
     "text": [
      "p4_data_pipeline:\n",
      "  outputs:\n",
      "    dev:\n",
      "      account: xzizkft-hh42877\n",
      "      database: SURVEY_DATABASE\n",
      "      role: P4_ROLE\n",
      "      schema: SURVEY_SCHEMA\n",
      "      threads: 1\n",
      "      type: snowflake\n",
      "      user: ABHINAVARABELLY\n",
      "      warehouse: P4_WAREHOUSE\n",
      "    stock_db:\n",
      "      type: snowflake\n",
      "      account: xzizkft-hh42877\n",
      "      user: ABHINAVARABELLY\n",
      "      role: P4_ROLE\n",
      "      database: STOCK_DB\n",
      "      warehouse: P4_WAREHOUSE\n",
      "      schema: STOCK_SCHEMA\n",
      "      threads: 1\n",
      "\n",
      "  target: dev\n"
     ]
    }
   ],
   "source": [
    "!grep -v password ~/.dbt/profiles.yml"
   ]
  },
  {
   "cell_type": "markdown",
   "id": "4a4ba526-3464-44c9-bdb0-3dfff2c1a025",
   "metadata": {},
   "source": [
    "# Q19"
   ]
  },
  {
   "cell_type": "code",
   "execution_count": 7,
   "id": "5950dd95-93f4-446d-af85-551b6aa59fb0",
   "metadata": {},
   "outputs": [
    {
     "name": "stdout",
     "output_type": "stream",
     "text": [
      "version: 2\n",
      "\n",
      "sources:\n",
      "  - name: P4\n",
      "    database: SURVEY_DATABASE\n",
      "    schema: SURVEY_SCHEMA\n",
      "    tables:\n",
      "      - name: SURVEY\n",
      "\n",
      "  - name: stock_by_day\n",
      "    database:  STOCK_TRACKING_US_STOCK_PRICES_BY_DAY\n",
      "    schema: STOCK\n",
      "    tables:\n",
      "      - name: US_STOCK_METRICS\n",
      "\n",
      "  - name: fx_by_day\n",
      "    database: FOREX_TRACKING_CURRENCY_EXCHANGE_RATES_BY_DAY\n",
      "    schema: STOCK\n",
      "    tables:\n",
      "      - name: FOREX_METRICS\n",
      "\n",
      "  - name: airbyte_csv_data\n",
      "    database: STOCK_DB\n",
      "    schema: STOCK_SCHEMA\n",
      "    tables:\n",
      "      - name: TRADING_BOOKS\n",
      "      - name: WEIGHTS_TABLE\n",
      "\n",
      "models:\n",
      "  - name: transform_survey\n",
      "    description: \"Transform Survey DB\"\n"
     ]
    }
   ],
   "source": [
    "!cat ~/p4_data_pipeline/models/schema.yml"
   ]
  },
  {
   "cell_type": "markdown",
   "id": "1f399d54-6dd6-4c78-b422-0567f0d738a2",
   "metadata": {},
   "source": [
    "# Q20"
   ]
  },
  {
   "cell_type": "code",
   "execution_count": 9,
   "id": "cd31f690-805c-4d59-9c77-969620596c77",
   "metadata": {},
   "outputs": [
    {
     "name": "stdout",
     "output_type": "stream",
     "text": [
      "\n",
      "# Name your project! Project names should contain only lowercase characters\n",
      "# and underscores. A good package name should reflect your organization's\n",
      "# name or the intended use of these models\n",
      "name: 'p4_data_pipeline'\n",
      "version: '1.0.0'\n",
      "\n",
      "# This setting configures which \"profile\" dbt uses for this project.\n",
      "profile: 'p4_data_pipeline'\n",
      "\n",
      "# These configurations specify where dbt should look for different types of files.\n",
      "# The `model-paths` config, for example, states that models in this project can be\n",
      "# found in the \"models/\" directory. You probably won't need to change these!\n",
      "model-paths: [\"models\"]\n",
      "analysis-paths: [\"analyses\"]\n",
      "test-paths: [\"tests\"]\n",
      "seed-paths: [\"seeds\"]\n",
      "macro-paths: [\"macros\"]\n",
      "snapshot-paths: [\"snapshots\"]\n",
      "\n",
      "clean-targets:         # directories to be removed by `dbt clean`\n",
      "  - \"target\"\n",
      "  - \"dbt_packages\"\n",
      "\n",
      "\n",
      "# Configuring models\n",
      "# Full documentation: https://docs.getdbt.com/docs/configuring-models\n",
      "\n",
      "# In this example config, we tell dbt to build all models in the example/\n",
      "# directory as views. These settings can be overridden in the individual model\n",
      "# files using the `{{ config(...) }}` macro.\n",
      "models:\n",
      "  p4_data_pipeline:\n",
      "    # Config indicated by + and applies to all files under models/example/\n",
      "    staging:\n",
      "      +materialized: view\n",
      "      +warehouse: P4_WAREHOUSE\n",
      "    marts:\n",
      "      +materialized: table\n",
      "      +warehouse: P4_WAREHOUSE\n"
     ]
    }
   ],
   "source": [
    "!cat ~/p4_data_pipeline/dbt_project.yml"
   ]
  },
  {
   "cell_type": "markdown",
   "id": "1c268904-8625-4b2d-9ad8-6b6ade3424a1",
   "metadata": {},
   "source": [
    "# Q21"
   ]
  },
  {
   "cell_type": "code",
   "execution_count": 2,
   "id": "b3d6b589-2abf-4978-9b36-6bbf74ec7485",
   "metadata": {},
   "outputs": [
    {
     "name": "stdout",
     "output_type": "stream",
     "text": [
      "SELECT DISTINCT\n",
      "    trade_date as date,\n",
      "    ticker\n",
      "FROM {{ source('airbyte_csv_data', 'TRADING_BOOKS') }}\n",
      "WHERE desk = 'Equity Desk'\n"
     ]
    }
   ],
   "source": [
    "!cat ~/p4_data_pipeline/models/staging/staging_valid_stock_tickers.sql"
   ]
  },
  {
   "cell_type": "code",
   "execution_count": 3,
   "id": "ed4b2136-8def-4523-9ce6-3eb0b81e073e",
   "metadata": {},
   "outputs": [
    {
     "name": "stdout",
     "output_type": "stream",
     "text": [
      "SELECT DISTINCT\n",
      "    trade_date as date,\n",
      "    ticker\n",
      "FROM {{ source('airbyte_csv_data', 'TRADING_BOOKS') }}\n",
      "WHERE desk = 'FX Desk'\n"
     ]
    }
   ],
   "source": [
    "!cat ~/p4_data_pipeline/models/staging/staging_valid_fx_tickers.sql"
   ]
  },
  {
   "cell_type": "code",
   "execution_count": 4,
   "id": "bba76971-38fc-4aec-82af-fac1857107c4",
   "metadata": {},
   "outputs": [
    {
     "name": "stdout",
     "output_type": "stream",
     "text": [
      "select\n",
      "    a.ticker,\n",
      "    a.date,\n",
      "    b.\"OPEN\" as open,\n",
      "    b.\"CLOSE\" as close,\n",
      "    b.\"HIGH\" as high,\n",
      "    b.\"LOW\" as low\n",
      "from {{ ref('staging_valid_stock_tickers') }} a\n",
      "join {{ source('stock_by_day', 'US_STOCK_METRICS') }} b\n",
      "on a.ticker = b.\"TICKER\" and a.date = b.\"RUN_DATE\"\n"
     ]
    }
   ],
   "source": [
    "!cat ~/p4_data_pipeline/models/staging/staging_valid_stock_info.sql"
   ]
  },
  {
   "cell_type": "code",
   "execution_count": 5,
   "id": "4d8fb3c4-299f-4695-a2ce-78dee72b3926",
   "metadata": {},
   "outputs": [
    {
     "name": "stdout",
     "output_type": "stream",
     "text": [
      "select\n",
      "    a.ticker,\n",
      "    a.date,\n",
      "    b.\"OPEN\" as open,\n",
      "    b.\"CLOSE\" as close,\n",
      "    b.\"HIGH\" as high,\n",
      "    b.\"LOW\" as low\n",
      "from {{ ref('staging_valid_fx_tickers') }} a\n",
      "join {{ source('fx_by_day', 'FOREX_METRICS') }} b\n",
      "on a.ticker = b.\"CURRENCY_PAIR_NAME\" and a.date = b.\"RUN_DATE\"\n"
     ]
    }
   ],
   "source": [
    "!cat ~/p4_data_pipeline/models/staging/staging_valid_fx_info.sql"
   ]
  },
  {
   "cell_type": "markdown",
   "id": "37d4f180-ebf6-4412-a190-e225d0419ccd",
   "metadata": {},
   "source": [
    "# Q22"
   ]
  },
  {
   "cell_type": "code",
   "execution_count": 36,
   "id": "100950ec-b61e-40cd-8d19-7e840a7a25fd",
   "metadata": {},
   "outputs": [
    {
     "name": "stdout",
     "output_type": "stream",
     "text": [
      "SELECT\n",
      "  buy.TRADE_DATE AS date_trade,\n",
      "  buy.TRADER_NAME AS name_of_trader,\n",
      "  buy.TRADE_ID AS trade_id,\n",
      "  buy.QUANTITY AS buy_quantity,\n",
      "  buy.PRICE AS price_buy,\n",
      "  buy.DESK AS desk,\n",
      "  buy.TICKER AS ticker,\n",
      "  sell.QUANTITY AS quantity_sell,\n",
      "  sell.PRICE AS price_sell\n",
      "FROM {{ source('airbyte_csv_data', 'TRADING_BOOKS') }} buy\n",
      "JOIN {{ source('airbyte_csv_data', 'TRADING_BOOKS') }} sell\n",
      "  ON buy.TRADER_NAME = sell.TRADER_NAME\n",
      "  AND buy.TICKER = sell.TICKER\n",
      "  AND buy.TRADE_DATE = sell.TRADE_DATE\n",
      "WHERE buy.TRADE_TYPE = 'BUY'\n",
      "  AND sell.TRADE_TYPE = 'SELL'\n",
      "ORDER BY buy.TRADE_ID\n"
     ]
    }
   ],
   "source": [
    "!cat ~/p4_data_pipeline/models/staging/staging_buy_sell_joint.sql"
   ]
  },
  {
   "cell_type": "markdown",
   "id": "03201d4d-7b07-4869-89e4-0d218af5cfe5",
   "metadata": {},
   "source": [
    "# Q23"
   ]
  },
  {
   "cell_type": "code",
   "execution_count": 37,
   "id": "0cf53fe4-b0b8-487e-85c5-7c07e19aed0f",
   "metadata": {},
   "outputs": [
    {
     "name": "stdout",
     "output_type": "stream",
     "text": [
      "{{ config(materialized='table') }}\n",
      "\n",
      "SELECT\n",
      "  trade_id,\n",
      "  buy_quantity * price_buy AS buy_money,\n",
      "  quantity_sell * price_sell AS sell_money,\n",
      "  (quantity_sell * price_sell) - (buy_quantity * price_buy) AS profit\n",
      "FROM {{ ref('staging_buy_sell_joint') }}\n",
      "ORDER BY trade_id\n"
     ]
    }
   ],
   "source": [
    "!cat ~/p4_data_pipeline/models/staging/fact_tab_trading.sql"
   ]
  },
  {
   "cell_type": "markdown",
   "id": "171cad94-ebfc-40e7-a02b-5c2ca8c56cc7",
   "metadata": {},
   "source": [
    "# Q24"
   ]
  },
  {
   "cell_type": "code",
   "execution_count": 22,
   "id": "cc2a515b-0573-4c61-968e-a025b120739d",
   "metadata": {},
   "outputs": [
    {
     "name": "stderr",
     "output_type": "stream",
     "text": [
      "/tmp/ipykernel_56655/2366644858.py:12: UserWarning: pandas only supports SQLAlchemy connectable (engine/connection) or database string URI or sqlite3 DBAPI2 connection. Other DBAPI2 objects are not tested. Please consider using SQLAlchemy.\n",
      "  df = pd.read_sql(query, connector)\n"
     ]
    },
    {
     "data": {
      "text/html": [
       "<div>\n",
       "<style scoped>\n",
       "    .dataframe tbody tr th:only-of-type {\n",
       "        vertical-align: middle;\n",
       "    }\n",
       "\n",
       "    .dataframe tbody tr th {\n",
       "        vertical-align: top;\n",
       "    }\n",
       "\n",
       "    .dataframe thead th {\n",
       "        text-align: right;\n",
       "    }\n",
       "</style>\n",
       "<table border=\"1\" class=\"dataframe\">\n",
       "  <thead>\n",
       "    <tr style=\"text-align: right;\">\n",
       "      <th></th>\n",
       "      <th>DESK</th>\n",
       "      <th>TOTAL_PROFIT</th>\n",
       "    </tr>\n",
       "  </thead>\n",
       "  <tbody>\n",
       "    <tr>\n",
       "      <th>0</th>\n",
       "      <td>Equity Desk</td>\n",
       "      <td>2718.75</td>\n",
       "    </tr>\n",
       "    <tr>\n",
       "      <th>1</th>\n",
       "      <td>FX Desk</td>\n",
       "      <td>5000.00</td>\n",
       "    </tr>\n",
       "  </tbody>\n",
       "</table>\n",
       "</div>"
      ],
      "text/plain": [
       "          DESK  TOTAL_PROFIT\n",
       "0  Equity Desk       2718.75\n",
       "1      FX Desk       5000.00"
      ]
     },
     "execution_count": 22,
     "metadata": {},
     "output_type": "execute_result"
    }
   ],
   "source": [
    "query = \"\"\"\n",
    "SELECT\n",
    "  trade_books.desk,\n",
    "  SUM(fact_tab.profit) AS total_profit\n",
    "FROM STOCK_DB.STOCK_SCHEMA.TRADING_BOOKS trade_books\n",
    "JOIN STOCK_DB.STOCK_SCHEMA.FACT_TAB_TRADING fact_tab\n",
    "ON trade_books.trade_id = fact_tab.trade_id\n",
    "WHERE trade_books.trade_type = 'BUY'\n",
    "GROUP BY trade_books.desk\n",
    "ORDER BY trade_books.desk;\n",
    "\"\"\"\n",
    "df = pd.read_sql(query, connector)\n",
    "df"
   ]
  },
  {
   "cell_type": "markdown",
   "id": "9c5575db-e5cc-498f-8352-87343bc2847d",
   "metadata": {},
   "source": [
    "# Q25"
   ]
  },
  {
   "cell_type": "code",
   "execution_count": 24,
   "id": "905c77c0-bd66-427a-b570-33f0f3be1e86",
   "metadata": {},
   "outputs": [
    {
     "name": "stderr",
     "output_type": "stream",
     "text": [
      "/tmp/ipykernel_56655/3551269975.py:12: UserWarning: pandas only supports SQLAlchemy connectable (engine/connection) or database string URI or sqlite3 DBAPI2 connection. Other DBAPI2 objects are not tested. Please consider using SQLAlchemy.\n",
      "  df = pd.read_sql(query, connector)\n"
     ]
    },
    {
     "data": {
      "text/html": [
       "<div>\n",
       "<style scoped>\n",
       "    .dataframe tbody tr th:only-of-type {\n",
       "        vertical-align: middle;\n",
       "    }\n",
       "\n",
       "    .dataframe tbody tr th {\n",
       "        vertical-align: top;\n",
       "    }\n",
       "\n",
       "    .dataframe thead th {\n",
       "        text-align: right;\n",
       "    }\n",
       "</style>\n",
       "<table border=\"1\" class=\"dataframe\">\n",
       "  <thead>\n",
       "    <tr style=\"text-align: right;\">\n",
       "      <th></th>\n",
       "      <th>DESK</th>\n",
       "      <th>PROFIT_RATE</th>\n",
       "    </tr>\n",
       "  </thead>\n",
       "  <tbody>\n",
       "    <tr>\n",
       "      <th>0</th>\n",
       "      <td>Equity Desk</td>\n",
       "      <td>0.012701</td>\n",
       "    </tr>\n",
       "    <tr>\n",
       "      <th>1</th>\n",
       "      <td>FX Desk</td>\n",
       "      <td>0.006342</td>\n",
       "    </tr>\n",
       "  </tbody>\n",
       "</table>\n",
       "</div>"
      ],
      "text/plain": [
       "          DESK  PROFIT_RATE\n",
       "0  Equity Desk     0.012701\n",
       "1      FX Desk     0.006342"
      ]
     },
     "execution_count": 24,
     "metadata": {},
     "output_type": "execute_result"
    }
   ],
   "source": [
    "query = \"\"\"\n",
    "SELECT\n",
    "  trade_books.desk,\n",
    "  SUM(fact_tab.profit) / NULLIF(SUM(fact_tab.buy_money), 0) AS profit_rate\n",
    "FROM STOCK_DB.STOCK_SCHEMA.TRADING_BOOKS trade_books\n",
    "JOIN STOCK_DB.STOCK_SCHEMA.FACT_TAB_TRADING fact_tab\n",
    "ON trade_books.trade_id = fact_tab.trade_id\n",
    "WHERE trade_books.trade_type = 'BUY'\n",
    "GROUP BY trade_books.desk\n",
    "ORDER BY trade_books.desk;\n",
    "\"\"\"\n",
    "df = pd.read_sql(query, connector)\n",
    "df"
   ]
  },
  {
   "cell_type": "code",
   "execution_count": null,
   "id": "f52e278f-b60a-431b-a607-4ea210f60e80",
   "metadata": {},
   "outputs": [],
   "source": []
  }
 ],
 "metadata": {
  "kernelspec": {
   "display_name": "Python 3 (ipykernel)",
   "language": "python",
   "name": "python3"
  },
  "language_info": {
   "codemirror_mode": {
    "name": "ipython",
    "version": 3
   },
   "file_extension": ".py",
   "mimetype": "text/x-python",
   "name": "python",
   "nbconvert_exporter": "python",
   "pygments_lexer": "ipython3",
   "version": "3.10.12"
  }
 },
 "nbformat": 4,
 "nbformat_minor": 5
}
